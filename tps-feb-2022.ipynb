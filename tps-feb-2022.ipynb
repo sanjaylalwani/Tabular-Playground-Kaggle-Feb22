{
 "cells": [
  {
   "cell_type": "code",
   "execution_count": 1,
   "id": "00d7de09",
   "metadata": {
    "_cell_guid": "b1076dfc-b9ad-4769-8c92-a6c4dae69d19",
    "_uuid": "8f2839f25d086af736a60e9eeb907d3b93b6e0e5",
    "execution": {
     "iopub.execute_input": "2022-02-28T19:56:24.196246Z",
     "iopub.status.busy": "2022-02-28T19:56:24.194770Z",
     "iopub.status.idle": "2022-02-28T19:56:24.273772Z",
     "shell.execute_reply": "2022-02-28T19:56:24.273148Z",
     "shell.execute_reply.started": "2022-02-28T19:36:59.663279Z"
    },
    "papermill": {
     "duration": 0.102736,
     "end_time": "2022-02-28T19:56:24.273924",
     "exception": false,
     "start_time": "2022-02-28T19:56:24.171188",
     "status": "completed"
    },
    "tags": []
   },
   "outputs": [],
   "source": [
    "import numpy as np # linear algebra\n",
    "import pandas as pd # data processing, CSV file I/O (e.g. pd.read_csv)"
   ]
  },
  {
   "cell_type": "code",
   "execution_count": 2,
   "id": "22452bd6",
   "metadata": {
    "execution": {
     "iopub.execute_input": "2022-02-28T19:56:24.314865Z",
     "iopub.status.busy": "2022-02-28T19:56:24.314309Z",
     "iopub.status.idle": "2022-02-28T19:56:25.047584Z",
     "shell.execute_reply": "2022-02-28T19:56:25.046788Z",
     "shell.execute_reply.started": "2022-02-28T19:37:00.987986Z"
    },
    "papermill": {
     "duration": 0.754432,
     "end_time": "2022-02-28T19:56:25.047726",
     "exception": false,
     "start_time": "2022-02-28T19:56:24.293294",
     "status": "completed"
    },
    "tags": []
   },
   "outputs": [],
   "source": [
    "import matplotlib.pyplot as plt\n",
    "from matplotlib.pyplot import figure\n",
    "import seaborn as sns\n",
    "%matplotlib inline "
   ]
  },
  {
   "cell_type": "code",
   "execution_count": 3,
   "id": "8b646cb6",
   "metadata": {
    "execution": {
     "iopub.execute_input": "2022-02-28T19:56:25.087744Z",
     "iopub.status.busy": "2022-02-28T19:56:25.087138Z",
     "iopub.status.idle": "2022-02-28T19:56:59.808155Z",
     "shell.execute_reply": "2022-02-28T19:56:59.807169Z",
     "shell.execute_reply.started": "2022-02-28T19:41:59.334348Z"
    },
    "papermill": {
     "duration": 34.741657,
     "end_time": "2022-02-28T19:56:59.808362",
     "exception": false,
     "start_time": "2022-02-28T19:56:25.066705",
     "status": "completed"
    },
    "tags": []
   },
   "outputs": [],
   "source": [
    "train_df = pd.read_csv('../input/tabular-playground-series-feb-2022/train.csv')\n",
    "test_df  = pd.read_csv('../input/tabular-playground-series-feb-2022/test.csv')"
   ]
  },
  {
   "cell_type": "code",
   "execution_count": 4,
   "id": "41a73184",
   "metadata": {
    "execution": {
     "iopub.execute_input": "2022-02-28T19:56:59.985646Z",
     "iopub.status.busy": "2022-02-28T19:56:59.984732Z",
     "iopub.status.idle": "2022-02-28T19:57:02.268024Z",
     "shell.execute_reply": "2022-02-28T19:57:02.268554Z",
     "shell.execute_reply.started": "2022-02-28T19:31:28.262414Z"
    },
    "papermill": {
     "duration": 2.442955,
     "end_time": "2022-02-28T19:57:02.268706",
     "exception": false,
     "start_time": "2022-02-28T19:56:59.825751",
     "status": "completed"
    },
    "tags": []
   },
   "outputs": [
    {
     "data": {
      "text/html": [
       "<div>\n",
       "<style scoped>\n",
       "    .dataframe tbody tr th:only-of-type {\n",
       "        vertical-align: middle;\n",
       "    }\n",
       "\n",
       "    .dataframe tbody tr th {\n",
       "        vertical-align: top;\n",
       "    }\n",
       "\n",
       "    .dataframe thead th {\n",
       "        text-align: right;\n",
       "    }\n",
       "</style>\n",
       "<table border=\"1\" class=\"dataframe\">\n",
       "  <thead>\n",
       "    <tr style=\"text-align: right;\">\n",
       "      <th></th>\n",
       "      <th>row_id</th>\n",
       "      <th>A0T0G0C10</th>\n",
       "      <th>A0T0G1C9</th>\n",
       "      <th>A0T0G2C8</th>\n",
       "      <th>A0T0G3C7</th>\n",
       "      <th>A0T0G4C6</th>\n",
       "      <th>A0T0G5C5</th>\n",
       "      <th>A0T0G6C4</th>\n",
       "      <th>A0T0G7C3</th>\n",
       "      <th>A0T0G8C2</th>\n",
       "      <th>...</th>\n",
       "      <th>A8T0G0C2</th>\n",
       "      <th>A8T0G1C1</th>\n",
       "      <th>A8T0G2C0</th>\n",
       "      <th>A8T1G0C1</th>\n",
       "      <th>A8T1G1C0</th>\n",
       "      <th>A8T2G0C0</th>\n",
       "      <th>A9T0G0C1</th>\n",
       "      <th>A9T0G1C0</th>\n",
       "      <th>A9T1G0C0</th>\n",
       "      <th>A10T0G0C0</th>\n",
       "    </tr>\n",
       "  </thead>\n",
       "  <tbody>\n",
       "    <tr>\n",
       "      <th>count</th>\n",
       "      <td>200000.000000</td>\n",
       "      <td>2.000000e+05</td>\n",
       "      <td>200000.000000</td>\n",
       "      <td>200000.000000</td>\n",
       "      <td>200000.000000</td>\n",
       "      <td>200000.000000</td>\n",
       "      <td>200000.000000</td>\n",
       "      <td>200000.000000</td>\n",
       "      <td>200000.000000</td>\n",
       "      <td>200000.000000</td>\n",
       "      <td>...</td>\n",
       "      <td>200000.000000</td>\n",
       "      <td>200000.000000</td>\n",
       "      <td>200000.000000</td>\n",
       "      <td>200000.000000</td>\n",
       "      <td>200000.000000</td>\n",
       "      <td>200000.000000</td>\n",
       "      <td>200000.000000</td>\n",
       "      <td>2.000000e+05</td>\n",
       "      <td>2.000000e+05</td>\n",
       "      <td>2.000000e+05</td>\n",
       "    </tr>\n",
       "    <tr>\n",
       "      <th>mean</th>\n",
       "      <td>99999.500000</td>\n",
       "      <td>6.421457e-07</td>\n",
       "      <td>-0.000003</td>\n",
       "      <td>-0.000014</td>\n",
       "      <td>-0.000010</td>\n",
       "      <td>0.000005</td>\n",
       "      <td>0.000025</td>\n",
       "      <td>0.000014</td>\n",
       "      <td>-0.000009</td>\n",
       "      <td>-0.000028</td>\n",
       "      <td>...</td>\n",
       "      <td>0.000135</td>\n",
       "      <td>0.000348</td>\n",
       "      <td>0.000253</td>\n",
       "      <td>0.000464</td>\n",
       "      <td>0.000581</td>\n",
       "      <td>0.000379</td>\n",
       "      <td>0.000062</td>\n",
       "      <td>8.982134e-05</td>\n",
       "      <td>1.170014e-04</td>\n",
       "      <td>2.215407e-07</td>\n",
       "    </tr>\n",
       "    <tr>\n",
       "      <th>std</th>\n",
       "      <td>57735.171256</td>\n",
       "      <td>8.654927e-05</td>\n",
       "      <td>0.000132</td>\n",
       "      <td>0.000287</td>\n",
       "      <td>0.000436</td>\n",
       "      <td>0.000683</td>\n",
       "      <td>0.000869</td>\n",
       "      <td>0.000775</td>\n",
       "      <td>0.000441</td>\n",
       "      <td>0.000107</td>\n",
       "      <td>...</td>\n",
       "      <td>0.000711</td>\n",
       "      <td>0.001117</td>\n",
       "      <td>0.000914</td>\n",
       "      <td>0.001238</td>\n",
       "      <td>0.001528</td>\n",
       "      <td>0.001182</td>\n",
       "      <td>0.000466</td>\n",
       "      <td>5.475606e-04</td>\n",
       "      <td>6.788277e-04</td>\n",
       "      <td>2.050081e-05</td>\n",
       "    </tr>\n",
       "    <tr>\n",
       "      <th>min</th>\n",
       "      <td>0.000000</td>\n",
       "      <td>-9.536743e-07</td>\n",
       "      <td>-0.000010</td>\n",
       "      <td>-0.000043</td>\n",
       "      <td>-0.000114</td>\n",
       "      <td>-0.000200</td>\n",
       "      <td>-0.000240</td>\n",
       "      <td>-0.000200</td>\n",
       "      <td>-0.000114</td>\n",
       "      <td>-0.000043</td>\n",
       "      <td>...</td>\n",
       "      <td>-0.000043</td>\n",
       "      <td>-0.000086</td>\n",
       "      <td>-0.000043</td>\n",
       "      <td>-0.000086</td>\n",
       "      <td>-0.000086</td>\n",
       "      <td>-0.000043</td>\n",
       "      <td>-0.000010</td>\n",
       "      <td>-9.536743e-06</td>\n",
       "      <td>-9.536743e-06</td>\n",
       "      <td>-9.536743e-07</td>\n",
       "    </tr>\n",
       "    <tr>\n",
       "      <th>25%</th>\n",
       "      <td>49999.750000</td>\n",
       "      <td>-9.536743e-07</td>\n",
       "      <td>-0.000010</td>\n",
       "      <td>-0.000043</td>\n",
       "      <td>-0.000114</td>\n",
       "      <td>-0.000200</td>\n",
       "      <td>-0.000240</td>\n",
       "      <td>-0.000200</td>\n",
       "      <td>-0.000114</td>\n",
       "      <td>-0.000043</td>\n",
       "      <td>...</td>\n",
       "      <td>-0.000043</td>\n",
       "      <td>-0.000086</td>\n",
       "      <td>-0.000043</td>\n",
       "      <td>-0.000086</td>\n",
       "      <td>-0.000086</td>\n",
       "      <td>-0.000043</td>\n",
       "      <td>-0.000010</td>\n",
       "      <td>-9.536743e-06</td>\n",
       "      <td>-9.536743e-06</td>\n",
       "      <td>-9.536743e-07</td>\n",
       "    </tr>\n",
       "    <tr>\n",
       "      <th>50%</th>\n",
       "      <td>99999.500000</td>\n",
       "      <td>-9.536743e-07</td>\n",
       "      <td>-0.000010</td>\n",
       "      <td>-0.000043</td>\n",
       "      <td>-0.000114</td>\n",
       "      <td>-0.000200</td>\n",
       "      <td>-0.000237</td>\n",
       "      <td>-0.000199</td>\n",
       "      <td>-0.000114</td>\n",
       "      <td>-0.000043</td>\n",
       "      <td>...</td>\n",
       "      <td>0.000014</td>\n",
       "      <td>0.000064</td>\n",
       "      <td>0.000047</td>\n",
       "      <td>0.000124</td>\n",
       "      <td>0.000114</td>\n",
       "      <td>0.000043</td>\n",
       "      <td>-0.000010</td>\n",
       "      <td>4.632568e-07</td>\n",
       "      <td>4.632568e-07</td>\n",
       "      <td>-9.536743e-07</td>\n",
       "    </tr>\n",
       "    <tr>\n",
       "      <th>75%</th>\n",
       "      <td>149999.250000</td>\n",
       "      <td>-9.536743e-07</td>\n",
       "      <td>-0.000003</td>\n",
       "      <td>-0.000013</td>\n",
       "      <td>-0.000004</td>\n",
       "      <td>-0.000011</td>\n",
       "      <td>0.000003</td>\n",
       "      <td>-0.000030</td>\n",
       "      <td>0.000004</td>\n",
       "      <td>-0.000028</td>\n",
       "      <td>...</td>\n",
       "      <td>0.000111</td>\n",
       "      <td>0.000463</td>\n",
       "      <td>0.000297</td>\n",
       "      <td>0.000684</td>\n",
       "      <td>0.000774</td>\n",
       "      <td>0.000365</td>\n",
       "      <td>0.000030</td>\n",
       "      <td>6.046326e-05</td>\n",
       "      <td>6.946326e-05</td>\n",
       "      <td>-9.536743e-07</td>\n",
       "    </tr>\n",
       "    <tr>\n",
       "      <th>max</th>\n",
       "      <td>199999.000000</td>\n",
       "      <td>9.999046e-03</td>\n",
       "      <td>0.009990</td>\n",
       "      <td>0.009957</td>\n",
       "      <td>0.009886</td>\n",
       "      <td>0.019800</td>\n",
       "      <td>0.019760</td>\n",
       "      <td>0.019800</td>\n",
       "      <td>0.009886</td>\n",
       "      <td>0.009957</td>\n",
       "      <td>...</td>\n",
       "      <td>0.019957</td>\n",
       "      <td>0.019914</td>\n",
       "      <td>0.019957</td>\n",
       "      <td>0.019914</td>\n",
       "      <td>0.019914</td>\n",
       "      <td>0.019957</td>\n",
       "      <td>0.009990</td>\n",
       "      <td>9.990463e-03</td>\n",
       "      <td>1.999046e-02</td>\n",
       "      <td>9.990463e-04</td>\n",
       "    </tr>\n",
       "  </tbody>\n",
       "</table>\n",
       "<p>8 rows × 287 columns</p>\n",
       "</div>"
      ],
      "text/plain": [
       "              row_id     A0T0G0C10       A0T0G1C9       A0T0G2C8  \\\n",
       "count  200000.000000  2.000000e+05  200000.000000  200000.000000   \n",
       "mean    99999.500000  6.421457e-07      -0.000003      -0.000014   \n",
       "std     57735.171256  8.654927e-05       0.000132       0.000287   \n",
       "min         0.000000 -9.536743e-07      -0.000010      -0.000043   \n",
       "25%     49999.750000 -9.536743e-07      -0.000010      -0.000043   \n",
       "50%     99999.500000 -9.536743e-07      -0.000010      -0.000043   \n",
       "75%    149999.250000 -9.536743e-07      -0.000003      -0.000013   \n",
       "max    199999.000000  9.999046e-03       0.009990       0.009957   \n",
       "\n",
       "            A0T0G3C7       A0T0G4C6       A0T0G5C5       A0T0G6C4  \\\n",
       "count  200000.000000  200000.000000  200000.000000  200000.000000   \n",
       "mean       -0.000010       0.000005       0.000025       0.000014   \n",
       "std         0.000436       0.000683       0.000869       0.000775   \n",
       "min        -0.000114      -0.000200      -0.000240      -0.000200   \n",
       "25%        -0.000114      -0.000200      -0.000240      -0.000200   \n",
       "50%        -0.000114      -0.000200      -0.000237      -0.000199   \n",
       "75%        -0.000004      -0.000011       0.000003      -0.000030   \n",
       "max         0.009886       0.019800       0.019760       0.019800   \n",
       "\n",
       "            A0T0G7C3       A0T0G8C2  ...       A8T0G0C2       A8T0G1C1  \\\n",
       "count  200000.000000  200000.000000  ...  200000.000000  200000.000000   \n",
       "mean       -0.000009      -0.000028  ...       0.000135       0.000348   \n",
       "std         0.000441       0.000107  ...       0.000711       0.001117   \n",
       "min        -0.000114      -0.000043  ...      -0.000043      -0.000086   \n",
       "25%        -0.000114      -0.000043  ...      -0.000043      -0.000086   \n",
       "50%        -0.000114      -0.000043  ...       0.000014       0.000064   \n",
       "75%         0.000004      -0.000028  ...       0.000111       0.000463   \n",
       "max         0.009886       0.009957  ...       0.019957       0.019914   \n",
       "\n",
       "            A8T0G2C0       A8T1G0C1       A8T1G1C0       A8T2G0C0  \\\n",
       "count  200000.000000  200000.000000  200000.000000  200000.000000   \n",
       "mean        0.000253       0.000464       0.000581       0.000379   \n",
       "std         0.000914       0.001238       0.001528       0.001182   \n",
       "min        -0.000043      -0.000086      -0.000086      -0.000043   \n",
       "25%        -0.000043      -0.000086      -0.000086      -0.000043   \n",
       "50%         0.000047       0.000124       0.000114       0.000043   \n",
       "75%         0.000297       0.000684       0.000774       0.000365   \n",
       "max         0.019957       0.019914       0.019914       0.019957   \n",
       "\n",
       "            A9T0G0C1      A9T0G1C0      A9T1G0C0     A10T0G0C0  \n",
       "count  200000.000000  2.000000e+05  2.000000e+05  2.000000e+05  \n",
       "mean        0.000062  8.982134e-05  1.170014e-04  2.215407e-07  \n",
       "std         0.000466  5.475606e-04  6.788277e-04  2.050081e-05  \n",
       "min        -0.000010 -9.536743e-06 -9.536743e-06 -9.536743e-07  \n",
       "25%        -0.000010 -9.536743e-06 -9.536743e-06 -9.536743e-07  \n",
       "50%        -0.000010  4.632568e-07  4.632568e-07 -9.536743e-07  \n",
       "75%         0.000030  6.046326e-05  6.946326e-05 -9.536743e-07  \n",
       "max         0.009990  9.990463e-03  1.999046e-02  9.990463e-04  \n",
       "\n",
       "[8 rows x 287 columns]"
      ]
     },
     "execution_count": 4,
     "metadata": {},
     "output_type": "execute_result"
    }
   ],
   "source": [
    "train_df.describe()"
   ]
  },
  {
   "cell_type": "code",
   "execution_count": 5,
   "id": "6421051b",
   "metadata": {
    "execution": {
     "iopub.execute_input": "2022-02-28T19:57:02.313947Z",
     "iopub.status.busy": "2022-02-28T19:57:02.313123Z",
     "iopub.status.idle": "2022-02-28T19:57:02.332358Z",
     "shell.execute_reply": "2022-02-28T19:57:02.332943Z",
     "shell.execute_reply.started": "2022-02-28T19:31:30.506329Z"
    },
    "papermill": {
     "duration": 0.045326,
     "end_time": "2022-02-28T19:57:02.333142",
     "exception": false,
     "start_time": "2022-02-28T19:57:02.287816",
     "status": "completed"
    },
    "tags": []
   },
   "outputs": [
    {
     "name": "stdout",
     "output_type": "stream",
     "text": [
      "<class 'pandas.core.frame.DataFrame'>\n",
      "RangeIndex: 200000 entries, 0 to 199999\n",
      "Columns: 288 entries, row_id to target\n",
      "dtypes: float64(286), int64(1), object(1)\n",
      "memory usage: 439.5+ MB\n"
     ]
    }
   ],
   "source": [
    "train_df.info()"
   ]
  },
  {
   "cell_type": "code",
   "execution_count": 6,
   "id": "5458e0d9",
   "metadata": {
    "execution": {
     "iopub.execute_input": "2022-02-28T19:57:02.394039Z",
     "iopub.status.busy": "2022-02-28T19:57:02.393263Z",
     "iopub.status.idle": "2022-02-28T19:57:02.396264Z",
     "shell.execute_reply": "2022-02-28T19:57:02.396802Z",
     "shell.execute_reply.started": "2022-02-28T19:36:50.968898Z"
    },
    "papermill": {
     "duration": 0.044324,
     "end_time": "2022-02-28T19:57:02.396937",
     "exception": false,
     "start_time": "2022-02-28T19:57:02.352613",
     "status": "completed"
    },
    "tags": []
   },
   "outputs": [
    {
     "data": {
      "text/html": [
       "<div>\n",
       "<style scoped>\n",
       "    .dataframe tbody tr th:only-of-type {\n",
       "        vertical-align: middle;\n",
       "    }\n",
       "\n",
       "    .dataframe tbody tr th {\n",
       "        vertical-align: top;\n",
       "    }\n",
       "\n",
       "    .dataframe thead th {\n",
       "        text-align: right;\n",
       "    }\n",
       "</style>\n",
       "<table border=\"1\" class=\"dataframe\">\n",
       "  <thead>\n",
       "    <tr style=\"text-align: right;\">\n",
       "      <th></th>\n",
       "      <th>row_id</th>\n",
       "      <th>A0T0G0C10</th>\n",
       "      <th>A0T0G1C9</th>\n",
       "      <th>A0T0G2C8</th>\n",
       "      <th>A0T0G3C7</th>\n",
       "      <th>A0T0G4C6</th>\n",
       "      <th>A0T0G5C5</th>\n",
       "      <th>A0T0G6C4</th>\n",
       "      <th>A0T0G7C3</th>\n",
       "      <th>A0T0G8C2</th>\n",
       "      <th>...</th>\n",
       "      <th>A8T0G1C1</th>\n",
       "      <th>A8T0G2C0</th>\n",
       "      <th>A8T1G0C1</th>\n",
       "      <th>A8T1G1C0</th>\n",
       "      <th>A8T2G0C0</th>\n",
       "      <th>A9T0G0C1</th>\n",
       "      <th>A9T0G1C0</th>\n",
       "      <th>A9T1G0C0</th>\n",
       "      <th>A10T0G0C0</th>\n",
       "      <th>target</th>\n",
       "    </tr>\n",
       "  </thead>\n",
       "  <tbody>\n",
       "    <tr>\n",
       "      <th>0</th>\n",
       "      <td>0</td>\n",
       "      <td>-9.536743e-07</td>\n",
       "      <td>-0.000010</td>\n",
       "      <td>-0.000043</td>\n",
       "      <td>-0.000114</td>\n",
       "      <td>-0.000200</td>\n",
       "      <td>-0.000240</td>\n",
       "      <td>-0.000200</td>\n",
       "      <td>-0.000114</td>\n",
       "      <td>-0.000043</td>\n",
       "      <td>...</td>\n",
       "      <td>-0.000086</td>\n",
       "      <td>-0.000043</td>\n",
       "      <td>-0.000086</td>\n",
       "      <td>-0.000086</td>\n",
       "      <td>-0.000043</td>\n",
       "      <td>-0.000010</td>\n",
       "      <td>-0.000010</td>\n",
       "      <td>-0.000010</td>\n",
       "      <td>-9.536743e-07</td>\n",
       "      <td>Streptococcus_pyogenes</td>\n",
       "    </tr>\n",
       "    <tr>\n",
       "      <th>1</th>\n",
       "      <td>1</td>\n",
       "      <td>-9.536743e-07</td>\n",
       "      <td>-0.000010</td>\n",
       "      <td>-0.000043</td>\n",
       "      <td>0.000886</td>\n",
       "      <td>-0.000200</td>\n",
       "      <td>0.000760</td>\n",
       "      <td>-0.000200</td>\n",
       "      <td>-0.000114</td>\n",
       "      <td>-0.000043</td>\n",
       "      <td>...</td>\n",
       "      <td>-0.000086</td>\n",
       "      <td>-0.000043</td>\n",
       "      <td>0.000914</td>\n",
       "      <td>0.000914</td>\n",
       "      <td>-0.000043</td>\n",
       "      <td>-0.000010</td>\n",
       "      <td>-0.000010</td>\n",
       "      <td>-0.000010</td>\n",
       "      <td>-9.536743e-07</td>\n",
       "      <td>Salmonella_enterica</td>\n",
       "    </tr>\n",
       "    <tr>\n",
       "      <th>2</th>\n",
       "      <td>2</td>\n",
       "      <td>-9.536743e-07</td>\n",
       "      <td>-0.000002</td>\n",
       "      <td>0.000007</td>\n",
       "      <td>0.000129</td>\n",
       "      <td>0.000268</td>\n",
       "      <td>0.000270</td>\n",
       "      <td>0.000243</td>\n",
       "      <td>0.000125</td>\n",
       "      <td>0.000001</td>\n",
       "      <td>...</td>\n",
       "      <td>0.000084</td>\n",
       "      <td>0.000048</td>\n",
       "      <td>0.000081</td>\n",
       "      <td>0.000106</td>\n",
       "      <td>0.000072</td>\n",
       "      <td>0.000010</td>\n",
       "      <td>0.000008</td>\n",
       "      <td>0.000019</td>\n",
       "      <td>1.046326e-06</td>\n",
       "      <td>Salmonella_enterica</td>\n",
       "    </tr>\n",
       "    <tr>\n",
       "      <th>3</th>\n",
       "      <td>3</td>\n",
       "      <td>4.632568e-08</td>\n",
       "      <td>-0.000006</td>\n",
       "      <td>0.000012</td>\n",
       "      <td>0.000245</td>\n",
       "      <td>0.000492</td>\n",
       "      <td>0.000522</td>\n",
       "      <td>0.000396</td>\n",
       "      <td>0.000197</td>\n",
       "      <td>-0.000003</td>\n",
       "      <td>...</td>\n",
       "      <td>0.000151</td>\n",
       "      <td>0.000100</td>\n",
       "      <td>0.000180</td>\n",
       "      <td>0.000202</td>\n",
       "      <td>0.000153</td>\n",
       "      <td>0.000021</td>\n",
       "      <td>0.000015</td>\n",
       "      <td>0.000046</td>\n",
       "      <td>-9.536743e-07</td>\n",
       "      <td>Salmonella_enterica</td>\n",
       "    </tr>\n",
       "    <tr>\n",
       "      <th>4</th>\n",
       "      <td>4</td>\n",
       "      <td>-9.536743e-07</td>\n",
       "      <td>-0.000010</td>\n",
       "      <td>-0.000043</td>\n",
       "      <td>-0.000114</td>\n",
       "      <td>-0.000200</td>\n",
       "      <td>-0.000240</td>\n",
       "      <td>-0.000200</td>\n",
       "      <td>-0.000114</td>\n",
       "      <td>-0.000043</td>\n",
       "      <td>...</td>\n",
       "      <td>-0.000086</td>\n",
       "      <td>-0.000043</td>\n",
       "      <td>-0.000086</td>\n",
       "      <td>-0.000086</td>\n",
       "      <td>-0.000043</td>\n",
       "      <td>-0.000010</td>\n",
       "      <td>-0.000010</td>\n",
       "      <td>-0.000010</td>\n",
       "      <td>-9.536743e-07</td>\n",
       "      <td>Enterococcus_hirae</td>\n",
       "    </tr>\n",
       "  </tbody>\n",
       "</table>\n",
       "<p>5 rows × 288 columns</p>\n",
       "</div>"
      ],
      "text/plain": [
       "   row_id     A0T0G0C10  A0T0G1C9  A0T0G2C8  A0T0G3C7  A0T0G4C6  A0T0G5C5  \\\n",
       "0       0 -9.536743e-07 -0.000010 -0.000043 -0.000114 -0.000200 -0.000240   \n",
       "1       1 -9.536743e-07 -0.000010 -0.000043  0.000886 -0.000200  0.000760   \n",
       "2       2 -9.536743e-07 -0.000002  0.000007  0.000129  0.000268  0.000270   \n",
       "3       3  4.632568e-08 -0.000006  0.000012  0.000245  0.000492  0.000522   \n",
       "4       4 -9.536743e-07 -0.000010 -0.000043 -0.000114 -0.000200 -0.000240   \n",
       "\n",
       "   A0T0G6C4  A0T0G7C3  A0T0G8C2  ...  A8T0G1C1  A8T0G2C0  A8T1G0C1  A8T1G1C0  \\\n",
       "0 -0.000200 -0.000114 -0.000043  ... -0.000086 -0.000043 -0.000086 -0.000086   \n",
       "1 -0.000200 -0.000114 -0.000043  ... -0.000086 -0.000043  0.000914  0.000914   \n",
       "2  0.000243  0.000125  0.000001  ...  0.000084  0.000048  0.000081  0.000106   \n",
       "3  0.000396  0.000197 -0.000003  ...  0.000151  0.000100  0.000180  0.000202   \n",
       "4 -0.000200 -0.000114 -0.000043  ... -0.000086 -0.000043 -0.000086 -0.000086   \n",
       "\n",
       "   A8T2G0C0  A9T0G0C1  A9T0G1C0  A9T1G0C0     A10T0G0C0  \\\n",
       "0 -0.000043 -0.000010 -0.000010 -0.000010 -9.536743e-07   \n",
       "1 -0.000043 -0.000010 -0.000010 -0.000010 -9.536743e-07   \n",
       "2  0.000072  0.000010  0.000008  0.000019  1.046326e-06   \n",
       "3  0.000153  0.000021  0.000015  0.000046 -9.536743e-07   \n",
       "4 -0.000043 -0.000010 -0.000010 -0.000010 -9.536743e-07   \n",
       "\n",
       "                   target  \n",
       "0  Streptococcus_pyogenes  \n",
       "1     Salmonella_enterica  \n",
       "2     Salmonella_enterica  \n",
       "3     Salmonella_enterica  \n",
       "4      Enterococcus_hirae  \n",
       "\n",
       "[5 rows x 288 columns]"
      ]
     },
     "execution_count": 6,
     "metadata": {},
     "output_type": "execute_result"
    }
   ],
   "source": [
    "train_df.head(5)"
   ]
  },
  {
   "cell_type": "code",
   "execution_count": 7,
   "id": "e00b7d24",
   "metadata": {
    "execution": {
     "iopub.execute_input": "2022-02-28T19:57:02.442001Z",
     "iopub.status.busy": "2022-02-28T19:57:02.440482Z",
     "iopub.status.idle": "2022-02-28T19:57:02.442610Z",
     "shell.execute_reply": "2022-02-28T19:57:02.443008Z",
     "shell.execute_reply.started": "2022-02-28T19:31:30.561224Z"
    },
    "papermill": {
     "duration": 0.026772,
     "end_time": "2022-02-28T19:57:02.443120",
     "exception": false,
     "start_time": "2022-02-28T19:57:02.416348",
     "status": "completed"
    },
    "tags": []
   },
   "outputs": [],
   "source": [
    "def missing_percent_of_column(train_set):\n",
    "    nan_percent = 100*(train_set.isnull().sum()/len(train_set))\n",
    "    nan_percent = nan_percent[nan_percent>0].sort_values(ascending=False).round(1)\n",
    "    DataFrame = pd.DataFrame(nan_percent)\n",
    "    # Rename the columns\n",
    "    mis_percent_table = DataFrame.rename(columns = {0 : '% of Misiing Values'}) \n",
    "    # Sort the table by percentage of missing descending\n",
    "    mis_percent = mis_percent_table\n",
    "    return mis_percent\n"
   ]
  },
  {
   "cell_type": "code",
   "execution_count": 8,
   "id": "89dff725",
   "metadata": {
    "execution": {
     "iopub.execute_input": "2022-02-28T19:57:02.482930Z",
     "iopub.status.busy": "2022-02-28T19:57:02.482100Z",
     "iopub.status.idle": "2022-02-28T19:57:02.617687Z",
     "shell.execute_reply": "2022-02-28T19:57:02.616938Z",
     "shell.execute_reply.started": "2022-02-28T19:31:30.569103Z"
    },
    "papermill": {
     "duration": 0.156556,
     "end_time": "2022-02-28T19:57:02.617817",
     "exception": false,
     "start_time": "2022-02-28T19:57:02.461261",
     "status": "completed"
    },
    "tags": []
   },
   "outputs": [
    {
     "data": {
      "text/html": [
       "<div>\n",
       "<style scoped>\n",
       "    .dataframe tbody tr th:only-of-type {\n",
       "        vertical-align: middle;\n",
       "    }\n",
       "\n",
       "    .dataframe tbody tr th {\n",
       "        vertical-align: top;\n",
       "    }\n",
       "\n",
       "    .dataframe thead th {\n",
       "        text-align: right;\n",
       "    }\n",
       "</style>\n",
       "<table border=\"1\" class=\"dataframe\">\n",
       "  <thead>\n",
       "    <tr style=\"text-align: right;\">\n",
       "      <th></th>\n",
       "      <th>% of Misiing Values</th>\n",
       "    </tr>\n",
       "  </thead>\n",
       "  <tbody>\n",
       "  </tbody>\n",
       "</table>\n",
       "</div>"
      ],
      "text/plain": [
       "Empty DataFrame\n",
       "Columns: [% of Misiing Values]\n",
       "Index: []"
      ]
     },
     "execution_count": 8,
     "metadata": {},
     "output_type": "execute_result"
    }
   ],
   "source": [
    "miss = missing_percent_of_column(train_df)\n",
    "miss"
   ]
  },
  {
   "cell_type": "code",
   "execution_count": 9,
   "id": "8e8ce86a",
   "metadata": {
    "execution": {
     "iopub.execute_input": "2022-02-28T19:57:02.661350Z",
     "iopub.status.busy": "2022-02-28T19:57:02.660733Z",
     "iopub.status.idle": "2022-02-28T19:57:02.663667Z",
     "shell.execute_reply": "2022-02-28T19:57:02.664054Z",
     "shell.execute_reply.started": "2022-02-28T19:39:22.043056Z"
    },
    "papermill": {
     "duration": 0.026373,
     "end_time": "2022-02-28T19:57:02.664165",
     "exception": false,
     "start_time": "2022-02-28T19:57:02.637792",
     "status": "completed"
    },
    "tags": []
   },
   "outputs": [
    {
     "data": {
      "text/plain": [
       "(200000, 288)"
      ]
     },
     "execution_count": 9,
     "metadata": {},
     "output_type": "execute_result"
    }
   ],
   "source": [
    "train_df.shape"
   ]
  },
  {
   "cell_type": "code",
   "execution_count": 10,
   "id": "6a51745d",
   "metadata": {
    "execution": {
     "iopub.execute_input": "2022-02-28T19:57:02.705951Z",
     "iopub.status.busy": "2022-02-28T19:57:02.705175Z",
     "iopub.status.idle": "2022-02-28T19:57:02.707314Z",
     "shell.execute_reply": "2022-02-28T19:57:02.707709Z",
     "shell.execute_reply.started": "2022-02-28T19:44:00.075842Z"
    },
    "papermill": {
     "duration": 0.024883,
     "end_time": "2022-02-28T19:57:02.707819",
     "exception": false,
     "start_time": "2022-02-28T19:57:02.682936",
     "status": "completed"
    },
    "tags": []
   },
   "outputs": [],
   "source": [
    "features = [col for col in train_df.columns if col not in ['row_id', 'target']]"
   ]
  },
  {
   "cell_type": "code",
   "execution_count": 11,
   "id": "ee962c0b",
   "metadata": {
    "execution": {
     "iopub.execute_input": "2022-02-28T19:57:02.758076Z",
     "iopub.status.busy": "2022-02-28T19:57:02.757269Z",
     "iopub.status.idle": "2022-02-28T19:57:02.759258Z",
     "shell.execute_reply": "2022-02-28T19:57:02.759749Z",
     "shell.execute_reply.started": "2022-02-28T19:44:02.772136Z"
    },
    "papermill": {
     "duration": 0.032717,
     "end_time": "2022-02-28T19:57:02.759868",
     "exception": false,
     "start_time": "2022-02-28T19:57:02.727151",
     "status": "completed"
    },
    "tags": []
   },
   "outputs": [],
   "source": [
    "def feature_engineering(df):\n",
    "    \n",
    "    df['mean'] = df[features].mean(axis=1)\n",
    "    df['median'] = df[features].median(axis=1)\n",
    "    df['q01'] = df[features].quantile(q=0.01, axis=1)\n",
    "    df['q05'] = df[features].quantile(q=0.05, axis=1)\n",
    "    df['q10'] = df[features].quantile(q=0.10, axis=1)\n",
    "    df['q25'] = df[features].quantile(q=0.25, axis=1)\n",
    "    df['q75'] = df[features].quantile(q=0.75, axis=1)\n",
    "    df['q90'] = df[features].quantile(q=0.90, axis=1)\n",
    "    df['q95'] = df[features].quantile(q=0.95, axis=1)\n",
    "    df['q99'] = df[features].quantile(q=0.99, axis=1)\n",
    "    df['max'] = df[features].max(axis=1)\n",
    "    df['min'] = df[features].min(axis=1)\n",
    "    \n",
    "    df['std'] = df[features].std(axis=1)\n",
    "    df['range'] = df['max'] - df['min']\n",
    "    df['iqr'] = df['q75'] - df['q25']\n",
    "    df['tails'] = df['range'] / df['iqr']\n",
    "    df['dispersion'] = df['std'] / df['mean']\n",
    "    df['dispersion_2'] = df['iqr'] / df['median']\n",
    "    df['skew'] = df[features].skew(axis=1)\n",
    "    df['kurt'] = df[features].kurt(axis=1)\n",
    "    \n",
    "    df['median-max'] = df['median'] - df['max']\n",
    "    df['median-min'] = df['median'] - df['min']\n",
    "    df['q99-q95'] = df['q99'] - df['q95']\n",
    "    df['q99-q90'] = df['q99'] - df['q90']\n",
    "    df['q01-q05'] = df['q01'] - df['q05']\n",
    "    df['q01-q10'] =  df['q01'] - df['q10']\n",
    "    \n",
    "    return df"
   ]
  },
  {
   "cell_type": "code",
   "execution_count": 12,
   "id": "4b98630b",
   "metadata": {
    "execution": {
     "iopub.execute_input": "2022-02-28T19:57:02.868410Z",
     "iopub.status.busy": "2022-02-28T19:57:02.867550Z",
     "iopub.status.idle": "2022-02-28T19:57:35.263179Z",
     "shell.execute_reply": "2022-02-28T19:57:35.262643Z",
     "shell.execute_reply.started": "2022-02-28T19:44:06.407926Z"
    },
    "papermill": {
     "duration": 32.484807,
     "end_time": "2022-02-28T19:57:35.263327",
     "exception": false,
     "start_time": "2022-02-28T19:57:02.778520",
     "status": "completed"
    },
    "tags": []
   },
   "outputs": [],
   "source": [
    "test_df = feature_engineering(test_df)\n",
    "train_df = feature_engineering(train_df)"
   ]
  },
  {
   "cell_type": "code",
   "execution_count": 13,
   "id": "690bf1a2",
   "metadata": {
    "execution": {
     "iopub.execute_input": "2022-02-28T19:57:35.308200Z",
     "iopub.status.busy": "2022-02-28T19:57:35.307299Z",
     "iopub.status.idle": "2022-02-28T19:57:35.310478Z",
     "shell.execute_reply": "2022-02-28T19:57:35.310948Z",
     "shell.execute_reply.started": "2022-02-28T19:45:06.198183Z"
    },
    "papermill": {
     "duration": 0.027846,
     "end_time": "2022-02-28T19:57:35.311084",
     "exception": false,
     "start_time": "2022-02-28T19:57:35.283238",
     "status": "completed"
    },
    "tags": []
   },
   "outputs": [
    {
     "data": {
      "text/plain": [
       "(200000, 314)"
      ]
     },
     "execution_count": 13,
     "metadata": {},
     "output_type": "execute_result"
    }
   ],
   "source": [
    "train_df.shape"
   ]
  },
  {
   "cell_type": "code",
   "execution_count": 14,
   "id": "c4dd11b0",
   "metadata": {
    "execution": {
     "iopub.execute_input": "2022-02-28T19:57:35.353166Z",
     "iopub.status.busy": "2022-02-28T19:57:35.352573Z",
     "iopub.status.idle": "2022-02-28T19:57:35.511086Z",
     "shell.execute_reply": "2022-02-28T19:57:35.510588Z",
     "shell.execute_reply.started": "2022-02-28T19:45:18.278054Z"
    },
    "papermill": {
     "duration": 0.181075,
     "end_time": "2022-02-28T19:57:35.511202",
     "exception": false,
     "start_time": "2022-02-28T19:57:35.330127",
     "status": "completed"
    },
    "tags": []
   },
   "outputs": [],
   "source": [
    "from sklearn.preprocessing import LabelEncoder\n",
    "\n",
    "# Encoding categorical features\n",
    "le = LabelEncoder()\n",
    "\n",
    "train_df['target'] = le.fit_transform(train_df['target'])"
   ]
  },
  {
   "cell_type": "code",
   "execution_count": 15,
   "id": "ab3555db",
   "metadata": {
    "execution": {
     "iopub.execute_input": "2022-02-28T19:57:35.554918Z",
     "iopub.status.busy": "2022-02-28T19:57:35.554118Z",
     "iopub.status.idle": "2022-02-28T19:57:35.556891Z",
     "shell.execute_reply": "2022-02-28T19:57:35.556465Z",
     "shell.execute_reply.started": "2022-02-28T19:45:22.076943Z"
    },
    "papermill": {
     "duration": 0.025508,
     "end_time": "2022-02-28T19:57:35.556995",
     "exception": false,
     "start_time": "2022-02-28T19:57:35.531487",
     "status": "completed"
    },
    "tags": []
   },
   "outputs": [],
   "source": [
    "test_row_id = test_df['row_id']"
   ]
  },
  {
   "cell_type": "code",
   "execution_count": 16,
   "id": "641ac828",
   "metadata": {
    "execution": {
     "iopub.execute_input": "2022-02-28T19:57:35.600894Z",
     "iopub.status.busy": "2022-02-28T19:57:35.599792Z",
     "iopub.status.idle": "2022-02-28T19:57:36.305864Z",
     "shell.execute_reply": "2022-02-28T19:57:36.305352Z",
     "shell.execute_reply.started": "2022-02-28T19:45:27.662404Z"
    },
    "papermill": {
     "duration": 0.72973,
     "end_time": "2022-02-28T19:57:36.305983",
     "exception": false,
     "start_time": "2022-02-28T19:57:35.576253",
     "status": "completed"
    },
    "tags": []
   },
   "outputs": [],
   "source": [
    "train_df = train_df.drop(['row_id'], axis=1)\n",
    "test_df = test_df.drop(['row_id'], axis=1)"
   ]
  },
  {
   "cell_type": "code",
   "execution_count": 17,
   "id": "f1f2cc6e",
   "metadata": {
    "execution": {
     "iopub.execute_input": "2022-02-28T19:57:36.489593Z",
     "iopub.status.busy": "2022-02-28T19:57:36.488383Z",
     "iopub.status.idle": "2022-02-28T19:57:36.579590Z",
     "shell.execute_reply": "2022-02-28T19:57:36.580011Z",
     "shell.execute_reply.started": "2022-02-28T19:45:41.171470Z"
    },
    "papermill": {
     "duration": 0.254606,
     "end_time": "2022-02-28T19:57:36.580159",
     "exception": false,
     "start_time": "2022-02-28T19:57:36.325553",
     "status": "completed"
    },
    "tags": []
   },
   "outputs": [
    {
     "data": {
      "text/plain": [
       "((200000, 312), (200000,), (100000, 312))"
      ]
     },
     "execution_count": 17,
     "metadata": {},
     "output_type": "execute_result"
    }
   ],
   "source": [
    "X_train = train_df.drop(\"target\", axis=1)\n",
    "Y_train = train_df[\"target\"]\n",
    "X_test  = test_df.copy()\n",
    "X_train.shape, Y_train.shape, X_test.shape"
   ]
  },
  {
   "cell_type": "code",
   "execution_count": 18,
   "id": "f3eeef65",
   "metadata": {
    "execution": {
     "iopub.execute_input": "2022-02-28T19:57:36.624323Z",
     "iopub.status.busy": "2022-02-28T19:57:36.623709Z",
     "iopub.status.idle": "2022-02-28T19:57:36.730402Z",
     "shell.execute_reply": "2022-02-28T19:57:36.729953Z",
     "shell.execute_reply.started": "2022-02-28T19:45:44.870172Z"
    },
    "papermill": {
     "duration": 0.130663,
     "end_time": "2022-02-28T19:57:36.730512",
     "exception": false,
     "start_time": "2022-02-28T19:57:36.599849",
     "status": "completed"
    },
    "tags": []
   },
   "outputs": [],
   "source": [
    "from xgboost import XGBClassifier\n",
    "\n",
    "model = XGBClassifier(tree_method='gpu_hist',gpu_id=0, predictor=\"gpu_predictor\",\n",
    "                          use_label_encoder =False, n_jobs=-1, n_estimators=1000,\n",
    "                          eval_metric='rmse', learning_rate=0.095, reg_lambda= 0.013,\n",
    "                          reg_alpha= 0.008, subsample= 0.56, colsample_bytree=0.85, max_depth=15)"
   ]
  },
  {
   "cell_type": "code",
   "execution_count": 19,
   "id": "b218e023",
   "metadata": {
    "execution": {
     "iopub.execute_input": "2022-02-28T19:57:36.772773Z",
     "iopub.status.busy": "2022-02-28T19:57:36.772206Z",
     "iopub.status.idle": "2022-02-28T20:02:58.063844Z",
     "shell.execute_reply": "2022-02-28T20:02:58.064254Z",
     "shell.execute_reply.started": "2022-02-28T19:45:49.057259Z"
    },
    "papermill": {
     "duration": 321.314255,
     "end_time": "2022-02-28T20:02:58.064416",
     "exception": false,
     "start_time": "2022-02-28T19:57:36.750161",
     "status": "completed"
    },
    "tags": []
   },
   "outputs": [
    {
     "data": {
      "text/plain": [
       "XGBClassifier(base_score=0.5, booster='gbtree', colsample_bylevel=1,\n",
       "              colsample_bynode=1, colsample_bytree=0.85, eval_metric='rmse',\n",
       "              gamma=0, gpu_id=0, importance_type='gain',\n",
       "              interaction_constraints='', learning_rate=0.095, max_delta_step=0,\n",
       "              max_depth=15, min_child_weight=1, missing=nan,\n",
       "              monotone_constraints='()', n_estimators=1000, n_jobs=-1,\n",
       "              num_parallel_tree=1, objective='multi:softprob',\n",
       "              predictor='gpu_predictor', random_state=0, reg_alpha=0.008,\n",
       "              reg_lambda=0.013, scale_pos_weight=None, subsample=0.56,\n",
       "              tree_method='gpu_hist', use_label_encoder=False,\n",
       "              validate_parameters=1, verbosity=None)"
      ]
     },
     "execution_count": 19,
     "metadata": {},
     "output_type": "execute_result"
    }
   ],
   "source": [
    "model.fit(X_train, Y_train)"
   ]
  },
  {
   "cell_type": "code",
   "execution_count": 20,
   "id": "49d6d579",
   "metadata": {
    "execution": {
     "iopub.execute_input": "2022-02-28T20:02:58.109794Z",
     "iopub.status.busy": "2022-02-28T20:02:58.109050Z",
     "iopub.status.idle": "2022-02-28T20:03:00.896668Z",
     "shell.execute_reply": "2022-02-28T20:03:00.896145Z",
     "shell.execute_reply.started": "2022-02-28T19:51:11.140405Z"
    },
    "papermill": {
     "duration": 2.812794,
     "end_time": "2022-02-28T20:03:00.896814",
     "exception": false,
     "start_time": "2022-02-28T20:02:58.084020",
     "status": "completed"
    },
    "tags": []
   },
   "outputs": [],
   "source": [
    "# Get predictions\n",
    "y_pred = model.predict(X_test)"
   ]
  },
  {
   "cell_type": "code",
   "execution_count": 21,
   "id": "baf68f77",
   "metadata": {
    "execution": {
     "iopub.execute_input": "2022-02-28T20:03:00.945658Z",
     "iopub.status.busy": "2022-02-28T20:03:00.944999Z",
     "iopub.status.idle": "2022-02-28T20:03:00.949265Z",
     "shell.execute_reply": "2022-02-28T20:03:00.948877Z",
     "shell.execute_reply.started": "2022-02-28T19:51:13.965674Z"
    },
    "papermill": {
     "duration": 0.032545,
     "end_time": "2022-02-28T20:03:00.949398",
     "exception": false,
     "start_time": "2022-02-28T20:03:00.916853",
     "status": "completed"
    },
    "tags": []
   },
   "outputs": [
    {
     "data": {
      "text/html": [
       "<div>\n",
       "<style scoped>\n",
       "    .dataframe tbody tr th:only-of-type {\n",
       "        vertical-align: middle;\n",
       "    }\n",
       "\n",
       "    .dataframe tbody tr th {\n",
       "        vertical-align: top;\n",
       "    }\n",
       "\n",
       "    .dataframe thead th {\n",
       "        text-align: right;\n",
       "    }\n",
       "</style>\n",
       "<table border=\"1\" class=\"dataframe\">\n",
       "  <thead>\n",
       "    <tr style=\"text-align: right;\">\n",
       "      <th></th>\n",
       "      <th>row_id</th>\n",
       "      <th>target</th>\n",
       "    </tr>\n",
       "  </thead>\n",
       "  <tbody>\n",
       "    <tr>\n",
       "      <th>0</th>\n",
       "      <td>200000</td>\n",
       "      <td>4</td>\n",
       "    </tr>\n",
       "    <tr>\n",
       "      <th>1</th>\n",
       "      <td>200001</td>\n",
       "      <td>6</td>\n",
       "    </tr>\n",
       "    <tr>\n",
       "      <th>2</th>\n",
       "      <td>200002</td>\n",
       "      <td>2</td>\n",
       "    </tr>\n",
       "    <tr>\n",
       "      <th>3</th>\n",
       "      <td>200003</td>\n",
       "      <td>6</td>\n",
       "    </tr>\n",
       "    <tr>\n",
       "      <th>4</th>\n",
       "      <td>200004</td>\n",
       "      <td>7</td>\n",
       "    </tr>\n",
       "  </tbody>\n",
       "</table>\n",
       "</div>"
      ],
      "text/plain": [
       "   row_id  target\n",
       "0  200000       4\n",
       "1  200001       6\n",
       "2  200002       2\n",
       "3  200003       6\n",
       "4  200004       7"
      ]
     },
     "execution_count": 21,
     "metadata": {},
     "output_type": "execute_result"
    }
   ],
   "source": [
    "#Create a  DataFrame with the passengers ids and our prediction\n",
    "submission = pd.DataFrame({'row_id': test_row_id,'target':y_pred})\n",
    "\n",
    "#Visualize the first 5 rows\n",
    "submission.head()"
   ]
  },
  {
   "cell_type": "code",
   "execution_count": 22,
   "id": "2f637a57",
   "metadata": {
    "execution": {
     "iopub.execute_input": "2022-02-28T20:03:00.995788Z",
     "iopub.status.busy": "2022-02-28T20:03:00.995026Z",
     "iopub.status.idle": "2022-02-28T20:03:01.000250Z",
     "shell.execute_reply": "2022-02-28T20:03:00.999851Z",
     "shell.execute_reply.started": "2022-02-28T19:51:13.982132Z"
    },
    "papermill": {
     "duration": 0.03082,
     "end_time": "2022-02-28T20:03:01.000384",
     "exception": false,
     "start_time": "2022-02-28T20:03:00.969564",
     "status": "completed"
    },
    "tags": []
   },
   "outputs": [],
   "source": [
    "submission['target'] = le.inverse_transform(submission['target'])"
   ]
  },
  {
   "cell_type": "code",
   "execution_count": 23,
   "id": "809547b7",
   "metadata": {
    "execution": {
     "iopub.execute_input": "2022-02-28T20:03:01.043167Z",
     "iopub.status.busy": "2022-02-28T20:03:01.042359Z",
     "iopub.status.idle": "2022-02-28T20:03:01.050085Z",
     "shell.execute_reply": "2022-02-28T20:03:01.050550Z",
     "shell.execute_reply.started": "2022-02-28T19:51:13.995155Z"
    },
    "papermill": {
     "duration": 0.030415,
     "end_time": "2022-02-28T20:03:01.050669",
     "exception": false,
     "start_time": "2022-02-28T20:03:01.020254",
     "status": "completed"
    },
    "tags": []
   },
   "outputs": [
    {
     "data": {
      "text/html": [
       "<div>\n",
       "<style scoped>\n",
       "    .dataframe tbody tr th:only-of-type {\n",
       "        vertical-align: middle;\n",
       "    }\n",
       "\n",
       "    .dataframe tbody tr th {\n",
       "        vertical-align: top;\n",
       "    }\n",
       "\n",
       "    .dataframe thead th {\n",
       "        text-align: right;\n",
       "    }\n",
       "</style>\n",
       "<table border=\"1\" class=\"dataframe\">\n",
       "  <thead>\n",
       "    <tr style=\"text-align: right;\">\n",
       "      <th></th>\n",
       "      <th>row_id</th>\n",
       "      <th>target</th>\n",
       "    </tr>\n",
       "  </thead>\n",
       "  <tbody>\n",
       "    <tr>\n",
       "      <th>0</th>\n",
       "      <td>200000</td>\n",
       "      <td>Escherichia_fergusonii</td>\n",
       "    </tr>\n",
       "    <tr>\n",
       "      <th>1</th>\n",
       "      <td>200001</td>\n",
       "      <td>Salmonella_enterica</td>\n",
       "    </tr>\n",
       "    <tr>\n",
       "      <th>2</th>\n",
       "      <td>200002</td>\n",
       "      <td>Enterococcus_hirae</td>\n",
       "    </tr>\n",
       "    <tr>\n",
       "      <th>3</th>\n",
       "      <td>200003</td>\n",
       "      <td>Salmonella_enterica</td>\n",
       "    </tr>\n",
       "    <tr>\n",
       "      <th>4</th>\n",
       "      <td>200004</td>\n",
       "      <td>Staphylococcus_aureus</td>\n",
       "    </tr>\n",
       "  </tbody>\n",
       "</table>\n",
       "</div>"
      ],
      "text/plain": [
       "   row_id                  target\n",
       "0  200000  Escherichia_fergusonii\n",
       "1  200001     Salmonella_enterica\n",
       "2  200002      Enterococcus_hirae\n",
       "3  200003     Salmonella_enterica\n",
       "4  200004   Staphylococcus_aureus"
      ]
     },
     "execution_count": 23,
     "metadata": {},
     "output_type": "execute_result"
    }
   ],
   "source": [
    "#Visualize the first 5 rows\n",
    "submission.head()"
   ]
  },
  {
   "cell_type": "code",
   "execution_count": 24,
   "id": "96365b48",
   "metadata": {
    "execution": {
     "iopub.execute_input": "2022-02-28T20:03:01.095569Z",
     "iopub.status.busy": "2022-02-28T20:03:01.094849Z",
     "iopub.status.idle": "2022-02-28T20:03:01.322140Z",
     "shell.execute_reply": "2022-02-28T20:03:01.322559Z",
     "shell.execute_reply.started": "2022-02-28T19:51:14.007127Z"
    },
    "papermill": {
     "duration": 0.251656,
     "end_time": "2022-02-28T20:03:01.322700",
     "exception": false,
     "start_time": "2022-02-28T20:03:01.071044",
     "status": "completed"
    },
    "tags": []
   },
   "outputs": [
    {
     "name": "stdout",
     "output_type": "stream",
     "text": [
      "Saved file: Submission.csv\n"
     ]
    }
   ],
   "source": [
    "#Convert DataFrame to a csv file that can be uploaded\n",
    "#This is saved in the same directory as your notebook\n",
    "filename = 'Submission.csv'\n",
    "\n",
    "submission.to_csv(filename,index=False)\n",
    "\n",
    "print('Saved file: ' + filename)"
   ]
  },
  {
   "cell_type": "code",
   "execution_count": null,
   "id": "1e4cf8a5",
   "metadata": {
    "papermill": {
     "duration": 0.021211,
     "end_time": "2022-02-28T20:03:01.364803",
     "exception": false,
     "start_time": "2022-02-28T20:03:01.343592",
     "status": "completed"
    },
    "tags": []
   },
   "outputs": [],
   "source": []
  }
 ],
 "metadata": {
  "kernelspec": {
   "display_name": "Python 3",
   "language": "python",
   "name": "python3"
  },
  "language_info": {
   "codemirror_mode": {
    "name": "ipython",
    "version": 3
   },
   "file_extension": ".py",
   "mimetype": "text/x-python",
   "name": "python",
   "nbconvert_exporter": "python",
   "pygments_lexer": "ipython3",
   "version": "3.7.10"
  },
  "papermill": {
   "default_parameters": {},
   "duration": 405.730987,
   "end_time": "2022-02-28T20:03:03.365137",
   "environment_variables": {},
   "exception": null,
   "input_path": "__notebook__.ipynb",
   "output_path": "__notebook__.ipynb",
   "parameters": {},
   "start_time": "2022-02-28T19:56:17.634150",
   "version": "2.3.3"
  }
 },
 "nbformat": 4,
 "nbformat_minor": 5
}
